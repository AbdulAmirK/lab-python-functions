{
 "cells": [
  {
   "cell_type": "markdown",
   "id": "25d7736c-ba17-4aff-b6bb-66eba20fbf4e",
   "metadata": {},
   "source": [
    "# Lab | Functions"
   ]
  },
  {
   "cell_type": "markdown",
   "id": "0c581062-8967-4d93-b06e-62833222f930",
   "metadata": {
    "tags": []
   },
   "source": [
    "## Exercise: Managing Customer Orders with Functions\n",
    "\n",
    "In the previous exercise, you improved the code for managing customer orders by using loops and flow control. Now, let's take it a step further and refactor the code by introducing functions.\n",
    "\n",
    "Follow the steps below to complete the exercise:\n",
    "\n",
    "1. Define a function named `initialize_inventory` that takes `products` as a parameter. Inside the function, implement the code for initializing the inventory dictionary using a loop and user input.\n",
    "\n",
    "2. Define a function named `get_customer_orders` that takes no parameters. Inside the function, implement the code for prompting the user to enter the product names using a loop. The function should return the `customer_orders` set.\n",
    "\n",
    "3. Define a function named `update_inventory` that takes `customer_orders` and `inventory` as parameters. Inside the function, implement the code for updating the inventory dictionary based on the customer orders.\n",
    "\n",
    "4. Define a function named `calculate_order_statistics` that takes `customer_orders` and `products` as parameters. Inside the function, implement the code for calculating the order statistics (total products ordered, and percentage of unique products ordered). The function should return these values.\n",
    "\n",
    "5. Define a function named `print_order_statistics` that takes `order_statistics` as a parameter. Inside the function, implement the code for printing the order statistics.\n",
    "\n",
    "6. Define a function named `print_updated_inventory` that takes `inventory` as a parameter. Inside the function, implement the code for printing the updated inventory.\n",
    "\n",
    "7. Call the functions in the appropriate sequence to execute the program and manage customer orders.\n",
    "\n",
    "Hints for functions:\n",
    "\n",
    "- Consider the input parameters required for each function and their return values.\n",
    "- Utilize function parameters and return values to transfer data between functions.\n",
    "- Test your functions individually to ensure they work correctly.\n",
    "\n",
    "\n"
   ]
  },
  {
   "cell_type": "markdown",
   "id": "cf886b50-8248-4017-9a69-c61e78008b83",
   "metadata": {},
   "source": [
    "1. Define a function named initialize_inventory that takes products as a parameter. Inside the function, implement the code for initializing the inventory dictionary using a loop and user input.\n"
   ]
  },
  {
   "cell_type": "code",
   "execution_count": 103,
   "id": "9a417942-f4f8-4f0d-aa50-b4af9bc234c8",
   "metadata": {
    "tags": []
   },
   "outputs": [],
   "source": [
    "def initialize_inventory(products):\n",
    "    inventory = {}\n",
    "    for prod in products:\n",
    "        quantity = int(input(\"Please update the inventory, enter the quantity for {}: \".format(prod)))\n",
    "        inventory[prod] = quantity\n",
    "    return inventory"
   ]
  },
  {
   "cell_type": "markdown",
   "id": "d692673c-818c-466b-b499-bebc56e3096e",
   "metadata": {},
   "source": [
    "2. Define a function named get_customer_orders that takes no parameters. Inside the function, implement the code for prompting the user to enter the product names using a loop. The function should return the customer_orders set."
   ]
  },
  {
   "cell_type": "code",
   "execution_count": 104,
   "id": "7fa130d8-fc60-48ca-b6f1-a1d5604f41f9",
   "metadata": {
    "tags": []
   },
   "outputs": [],
   "source": [
    "def get_customer_orders():\n",
    "    customer_orders = set()\n",
    "    while True:\n",
    "        print(\"what would you like to buy?\")\n",
    "        prod = input(\"Enter the product name or 'stop' to finish): \").lower()\n",
    "        if prod == 'stop':\n",
    "            break\n",
    "        customer_orders.add(prod)\n",
    "    return customer_orders"
   ]
  },
  {
   "cell_type": "markdown",
   "id": "8ee073a8-e85e-4c09-bfe7-96a57dc7b9e9",
   "metadata": {},
   "source": [
    "3. Define a function named update_inventory that takes customer_orders and inventory as parameters. Inside the function, implement the code for updating the inventory dictionary based on the customer orders."
   ]
  },
  {
   "cell_type": "code",
   "execution_count": 105,
   "id": "49b083c8-430d-484a-9ae5-2da6e8f8fdbb",
   "metadata": {
    "tags": []
   },
   "outputs": [],
   "source": [
    "def update_inventory(customer_orders, inventory):\n",
    "    for prod in customer_orders:\n",
    "        if prod in inventory:\n",
    "            inventory[prod] -= 1\n",
    "    return inventory\n"
   ]
  },
  {
   "cell_type": "markdown",
   "id": "2a59ac30-dc25-44b5-9daa-e29e2c5b8efd",
   "metadata": {},
   "source": [
    "4. Define a function named calculate_order_statistics that takes customer_orders and products as parameters. Inside the function, implement the code for calculating the order statistics (total products ordered, and percentage of unique products ordered). The function should return these values.\n",
    "\n"
   ]
  },
  {
   "cell_type": "code",
   "execution_count": 106,
   "id": "565284e2-ea42-406e-bc2f-38c35f8155e3",
   "metadata": {
    "tags": []
   },
   "outputs": [],
   "source": [
    "def calculate_order_statistics(customer_orders, products):\n",
    "    total_products_ordered = len(customer_orders)\n",
    "    percentage_of_unique_products_ordered = (total_products_ordered / len(products)) * 100\n",
    "    return total_products_ordered, percentage_of_unique_products_ordered\n",
    "        "
   ]
  },
  {
   "cell_type": "markdown",
   "id": "96022402-b0b4-45e5-ac50-69561040488e",
   "metadata": {},
   "source": [
    "5. Define a function named print_order_statistics that takes order_statistics as a parameter. Inside the function, implement the code for printing the order statistics."
   ]
  },
  {
   "cell_type": "code",
   "execution_count": 107,
   "id": "0c61df41-7158-4fe5-98cd-14440ce3e50a",
   "metadata": {
    "tags": []
   },
   "outputs": [],
   "source": [
    "def print_order_statistics(order_statistics):\n",
    "    print(\"Order Statistics:\")\n",
    "    print(\"Total Products Ordered:\", order_statistics[0])\n",
    "    print(f\"Percentage of Products Ordered: {order_statistics[1]:.2f}%\")"
   ]
  },
  {
   "cell_type": "markdown",
   "id": "8b04e1f9-f014-444a-8929-c5b375b0bb03",
   "metadata": {},
   "source": [
    "6. Define a function named print_updated_inventory that takes inventory as a parameter. Inside the function, implement the code for printing the updated inventory."
   ]
  },
  {
   "cell_type": "code",
   "execution_count": 108,
   "id": "864c40ee-1670-4c85-8ec8-acb3fad65357",
   "metadata": {
    "tags": []
   },
   "outputs": [],
   "source": [
    "def print_updated_inventory(inventory):\n",
    "    print(\"The updated inventory is:\")\n",
    "    for (prod, quantity) in inventory.items():\n",
    "        print(\"{}:{}\".format(prod, quantity))"
   ]
  },
  {
   "cell_type": "markdown",
   "id": "ba45c9dd-df62-4a1f-97dd-c98b9d98b6ad",
   "metadata": {},
   "source": [
    "7. Call the functions in the appropriate sequence to execute the program and manage customer orders."
   ]
  },
  {
   "cell_type": "code",
   "execution_count": 109,
   "id": "190f56cc-a8c1-4800-8387-e8d6d7bbb7fd",
   "metadata": {
    "tags": []
   },
   "outputs": [
    {
     "name": "stdin",
     "output_type": "stream",
     "text": [
      "Please update the inventory, enter the quantity for t-shirt:  9\n",
      "Please update the inventory, enter the quantity for mug:  8\n",
      "Please update the inventory, enter the quantity for hat:  7\n",
      "Please update the inventory, enter the quantity for book:  6\n",
      "Please update the inventory, enter the quantity for keychain:  5\n"
     ]
    },
    {
     "name": "stdout",
     "output_type": "stream",
     "text": [
      "what would you like to buy?\n"
     ]
    },
    {
     "name": "stdin",
     "output_type": "stream",
     "text": [
      "Enter the product name or 'stop' to finish):  mug\n"
     ]
    },
    {
     "name": "stdout",
     "output_type": "stream",
     "text": [
      "what would you like to buy?\n"
     ]
    },
    {
     "name": "stdin",
     "output_type": "stream",
     "text": [
      "Enter the product name or 'stop' to finish):  hat\n"
     ]
    },
    {
     "name": "stdout",
     "output_type": "stream",
     "text": [
      "what would you like to buy?\n"
     ]
    },
    {
     "name": "stdin",
     "output_type": "stream",
     "text": [
      "Enter the product name or 'stop' to finish):  stop\n"
     ]
    },
    {
     "name": "stdout",
     "output_type": "stream",
     "text": [
      "Order Statistics:\n",
      "Total Products Ordered: 2\n",
      "Percentage of Products Ordered: 40.00%\n",
      "The updated inventory is:\n",
      "t-shirt:9\n",
      "mug:7\n",
      "hat:6\n",
      "book:6\n",
      "keychain:5\n"
     ]
    }
   ],
   "source": [
    "#### Initial setup of available products\n",
    "products = [\"t-shirt\", \"mug\", \"hat\", \"book\", \"keychain\"]\n",
    "\n",
    "# Step 1: Initialize inventory\n",
    "inventory = initialize_inventory(products)\n",
    "\n",
    "# Step 2: Get customer orders\n",
    "customer_orders = get_customer_orders()\n",
    "\n",
    "# Step 3: Update inventory based on customer orders\n",
    "inventory = update_inventory(customer_orders, inventory)\n",
    "\n",
    "# Step 4: Calculate order statistics\n",
    "order_statistics = calculate_order_statistics(customer_orders, products)\n",
    "\n",
    "# Step 5: Print order statistics\n",
    "print_order_statistics(order_statistics)\n",
    "\n",
    "# Step 6: Print updated inventory\n",
    "print_updated_inventory(inventory)"
   ]
  },
  {
   "cell_type": "code",
   "execution_count": null,
   "id": "e6d97e7e-bc9d-4954-a07f-dfb125fde801",
   "metadata": {},
   "outputs": [],
   "source": []
  }
 ],
 "metadata": {
  "kernelspec": {
   "display_name": "Python 3 (ipykernel)",
   "language": "python",
   "name": "python3"
  },
  "language_info": {
   "codemirror_mode": {
    "name": "ipython",
    "version": 3
   },
   "file_extension": ".py",
   "mimetype": "text/x-python",
   "name": "python",
   "nbconvert_exporter": "python",
   "pygments_lexer": "ipython3",
   "version": "3.11.5"
  }
 },
 "nbformat": 4,
 "nbformat_minor": 5
}
